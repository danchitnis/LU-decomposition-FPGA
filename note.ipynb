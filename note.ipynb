{
 "cells": [
  {
   "cell_type": "code",
   "execution_count": null,
   "metadata": {},
   "outputs": [],
   "source": [
    "for i in range(16):\n",
    "    print(f\"case {i+1}:\")\n",
    "    for j in range(i + 1):\n",
    "        print(f\"x[{j}] = X[s+{j}];\")\n",
    "    for j in range(i + 1):\n",
    "        print(f\"X[r+{j}] -= lik * x[{j}];\")\n",
    "    print(\"break;\\n\")\n"
   ]
  },
  {
   "cell_type": "code",
   "execution_count": null,
   "metadata": {},
   "outputs": [],
   "source": [
    "for i in range(16):\n",
    "    print(f\"case {i+1}:\")\n",
    "    for j in range(i + 1):\n",
    "        print(f\"X[s+{j}] -= uik * x[{j}];\")\n",
    "    print(\"break;\\n\")"
   ]
  },
  {
   "cell_type": "code",
   "execution_count": null,
   "metadata": {},
   "outputs": [],
   "source": [
    "for i in range(16):\n",
    "    print(f\"case {i+1}:\")\n",
    "    for j in range(i + 1):\n",
    "        print(f\"x[{j}] = X[r+{j}]/Udiag[k];\")\n",
    "    for j in range(i + 1):\n",
    "        print(f\"X[r+{j}] = x[{j}];\")\n",
    "    print(\"break;\\n\")\n"
   ]
  },
  {
   "cell_type": "code",
   "execution_count": null,
   "metadata": {},
   "outputs": [],
   "source": [
    "for i in range(16):\n",
    "    print(f\"case {i+1}:\")\n",
    "    for j in range(i + 1):\n",
    "        print(f\"Xwork[r+{j}] -= Offx[p] * Xwork[s+{j}];\")\n",
    "    print(\"break;\\n\")"
   ]
  },
  {
   "cell_type": "code",
   "execution_count": null,
   "metadata": {},
   "outputs": [],
   "source": [
    "for i in range(16):\n",
    "    print(f\"case {i+1}:\")\n",
    "    for j in range(i + 1):\n",
    "        print(f\"Xwork[r+{j}] /= s;\")\n",
    "    print(\"break;\\n\")"
   ]
  },
  {
   "cell_type": "code",
   "execution_count": 2,
   "metadata": {},
   "outputs": [
    {
     "name": "stdout",
     "output_type": "stream",
     "text": [
      "Ax[r+0] /= Ap[0] * Ax[t+0];\n",
      "Ax[r+1] /= Ap[1] * Ax[t+1];\n",
      "Ax[r+2] /= Ap[2] * Ax[t+2];\n",
      "Ax[r+3] /= Ap[3] * Ax[t+3];\n",
      "Ax[r+4] /= Ap[4] * Ax[t+4];\n",
      "Ax[r+5] /= Ap[5] * Ax[t+5];\n",
      "Ax[r+6] /= Ap[6] * Ax[t+6];\n",
      "Ax[r+7] /= Ap[7] * Ax[t+7];\n",
      "Ax[r+8] /= Ap[8] * Ax[t+8];\n",
      "Ax[r+9] /= Ap[9] * Ax[t+9];\n",
      "Ax[r+10] /= Ap[10] * Ax[t+10];\n",
      "Ax[r+11] /= Ap[11] * Ax[t+11];\n",
      "Ax[r+12] /= Ap[12] * Ax[t+12];\n",
      "Ax[r+13] /= Ap[13] * Ax[t+13];\n",
      "Ax[r+14] /= Ap[14] * Ax[t+14];\n",
      "Ax[r+15] /= Ap[15] * Ax[t+15];\n"
     ]
    }
   ],
   "source": [
    "for i in range(16):\n",
    "    print(f\"Ax[r+{i}] /= Ap[{i}] * Ax[t+{i}];\")"
   ]
  }
 ],
 "metadata": {
  "interpreter": {
   "hash": "916dbcbb3f70747c44a77c7bcd40155683ae19c65e1c03b4aa3499c5328201f1"
  },
  "kernelspec": {
   "display_name": "Python 3.8.10 64-bit",
   "language": "python",
   "name": "python3"
  },
  "language_info": {
   "codemirror_mode": {
    "name": "ipython",
    "version": 3
   },
   "file_extension": ".py",
   "mimetype": "text/x-python",
   "name": "python",
   "nbconvert_exporter": "python",
   "pygments_lexer": "ipython3",
   "version": "3.8.10"
  },
  "orig_nbformat": 4
 },
 "nbformat": 4,
 "nbformat_minor": 2
}
